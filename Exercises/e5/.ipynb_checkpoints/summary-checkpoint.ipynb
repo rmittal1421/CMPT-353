{
 "cells": [
  {
   "cell_type": "code",
   "execution_count": 1,
   "metadata": {},
   "outputs": [],
   "source": [
    "import numpy as np\n",
    "import pandas as pd"
   ]
  },
  {
   "cell_type": "code",
   "execution_count": 2,
   "metadata": {},
   "outputs": [
    {
     "name": "stdout",
     "output_type": "stream",
     "text": [
      "data-1.csv \n",
      "\n",
      "        Mean  Standard_Deviation        Min        Max\n",
      "x   8.717696           12.155517 -22.635878  35.237055\n",
      "y  12.522874            6.639964  -2.565088  27.384153\n",
      "\n",
      "Coorelation_coeffecient:  0.9503256954375482 \n",
      "\n",
      "data-2.csv \n",
      "\n",
      "       Mean  Standard_Deviation        Min        Max\n",
      "x -0.710787           11.481584 -33.271113  27.647000\n",
      "y -0.748987            6.257918 -18.621804  14.147315\n",
      "\n",
      "Coorelation_coeffecient:  0.9551531665750372 \n",
      "\n",
      "data-3.csv \n",
      "\n",
      "       Mean  Standard_Deviation       Min        Max\n",
      "x  0.968907            2.235558 -2.449064   4.518885\n",
      "y  8.508535            1.149301  6.641734  10.551871\n",
      "\n",
      "Coorelation_coeffecient:  0.9819372646760663 \n",
      "\n",
      "data-4.csv \n",
      "\n",
      "        Mean  Standard_Deviation  Min       Max\n",
      "x  49.905086           28.508611  0.0  87.37670\n",
      "y  18.553837           16.545896  0.0  44.56504\n",
      "\n",
      "Coorelation_coeffecient:  -0.08119306735490815 \n",
      "\n",
      "data-5.csv \n",
      "\n",
      "        Mean  Standard_Deviation       Min        Max\n",
      "x  49.909994           28.500001  4.337892  91.052863\n",
      "y  18.555525           16.540796  0.055498  49.934197\n",
      "\n",
      "Coorelation_coeffecient:  -0.08823598983058885 \n",
      "\n",
      "data-6.csv \n",
      "\n",
      "       Mean  Standard_Deviation        Min        Max\n",
      "x  7.216155           11.921599 -24.333821  35.402139\n",
      "y  7.602215           11.764382 -22.956357  36.079874\n",
      "\n",
      "Coorelation_coeffecient:  0.9350685662094906 \n",
      "\n"
     ]
    }
   ],
   "source": [
    "for i in range(6):\n",
    "    filename = \"data-\" + str(i+1) + \".csv\"\n",
    "    print(filename, '\\n')\n",
    "    df = pd.read_csv(filename)\n",
    "    mean_values = df.mean()\n",
    "    standard_deviation = df.std()\n",
    "    min_values = df.min(axis=0)\n",
    "    max_values = df.max(axis=0)\n",
    "    data = {'Mean': mean_values, 'Standard_Deviation': standard_deviation, 'Min': min_values, 'Max': max_values}\n",
    "    df_print = pd.DataFrame(data, index=['x', 'y'])\n",
    "    print(df_print)\n",
    "    correlation_coefficient = df['x'].corr(df['y'])\n",
    "    print('\\nCoorelation_coeffecient: ', correlation_coefficient, '\\n')"
   ]
  },
  {
   "cell_type": "code",
   "execution_count": null,
   "metadata": {},
   "outputs": [],
   "source": []
  }
 ],
 "metadata": {
  "kernelspec": {
   "display_name": "Python 3",
   "language": "python",
   "name": "python3"
  },
  "language_info": {
   "codemirror_mode": {
    "name": "ipython",
    "version": 3
   },
   "file_extension": ".py",
   "mimetype": "text/x-python",
   "name": "python",
   "nbconvert_exporter": "python",
   "pygments_lexer": "ipython3",
   "version": "3.7.3"
  }
 },
 "nbformat": 4,
 "nbformat_minor": 2
}
